{
  "nbformat": 4,
  "nbformat_minor": 0,
  "metadata": {
    "colab": {
      "name": "Vine_Review_Analysis.ipynb",
      "provenance": [],
      "collapsed_sections": []
    },
    "kernelspec": {
      "name": "python3",
      "display_name": "Python 3"
    },
    "language_info": {
      "name": "python"
    }
  },
  "cells": [
    {
      "cell_type": "code",
      "metadata": {
        "colab": {
          "base_uri": "https://localhost:8080/"
        },
        "id": "Dw-Bu34nHOpu",
        "outputId": "171b95e4-a95b-4150-9b8c-b2611d4e2829"
      },
      "source": [
        "import os\n",
        "# Find the latest version of spark 3.0 from http://www.apache.org/dist/spark/ and enter as the spark version\n",
        "# For example:\n",
        "# spark_version = 'spark-3.0.3'\n",
        "spark_version = 'spark-3.0.3'\n",
        "os.environ['SPARK_VERSION']=spark_version\n",
        "\n",
        "# Install Spark and Java\n",
        "!apt-get update\n",
        "!apt-get install openjdk-11-jdk-headless -qq > /dev/null\n",
        "!wget -q http://www.apache.org/dist/spark/$SPARK_VERSION/$SPARK_VERSION-bin-hadoop2.7.tgz\n",
        "!tar xf $SPARK_VERSION-bin-hadoop2.7.tgz\n",
        "!pip install -q findspark\n",
        "\n",
        "# Set Environment Variables\n",
        "import os\n",
        "os.environ[\"JAVA_HOME\"] = \"/usr/lib/jvm/java-11-openjdk-amd64\"\n",
        "os.environ[\"SPARK_HOME\"] = f\"/content/{spark_version}-bin-hadoop2.7\"\n",
        "\n",
        "# Start a SparkSession\n",
        "import findspark\n",
        "findspark.init()"
      ],
      "execution_count": 1,
      "outputs": [
        {
          "output_type": "stream",
          "name": "stdout",
          "text": [
            "Get:1 https://cloud.r-project.org/bin/linux/ubuntu bionic-cran40/ InRelease [3,626 B]\n",
            "Ign:2 https://developer.download.nvidia.com/compute/cuda/repos/ubuntu1804/x86_64  InRelease\n",
            "Get:3 http://security.ubuntu.com/ubuntu bionic-security InRelease [88.7 kB]\n",
            "Hit:4 http://archive.ubuntu.com/ubuntu bionic InRelease\n",
            "Ign:5 https://developer.download.nvidia.com/compute/machine-learning/repos/ubuntu1804/x86_64  InRelease\n",
            "Hit:6 https://developer.download.nvidia.com/compute/cuda/repos/ubuntu1804/x86_64  Release\n",
            "Hit:7 https://developer.download.nvidia.com/compute/machine-learning/repos/ubuntu1804/x86_64  Release\n",
            "Hit:8 http://ppa.launchpad.net/c2d4u.team/c2d4u4.0+/ubuntu bionic InRelease\n",
            "Get:9 http://archive.ubuntu.com/ubuntu bionic-updates InRelease [88.7 kB]\n",
            "Hit:10 http://ppa.launchpad.net/cran/libgit2/ubuntu bionic InRelease\n",
            "Get:13 http://archive.ubuntu.com/ubuntu bionic-backports InRelease [74.6 kB]\n",
            "Hit:14 http://ppa.launchpad.net/deadsnakes/ppa/ubuntu bionic InRelease\n",
            "Hit:15 http://ppa.launchpad.net/graphics-drivers/ppa/ubuntu bionic InRelease\n",
            "Get:16 http://security.ubuntu.com/ubuntu bionic-security/universe amd64 Packages [1,430 kB]\n",
            "Get:17 http://archive.ubuntu.com/ubuntu bionic-updates/universe amd64 Packages [2,208 kB]\n",
            "Get:18 http://archive.ubuntu.com/ubuntu bionic-updates/main amd64 Packages [2,800 kB]\n",
            "Fetched 6,695 kB in 5s (1,398 kB/s)\n",
            "Reading package lists... Done\n"
          ]
        }
      ]
    },
    {
      "cell_type": "code",
      "metadata": {
        "colab": {
          "base_uri": "https://localhost:8080/"
        },
        "id": "Qz0bslrnHcMT",
        "outputId": "8490b600-1f1e-49f3-e0ec-e3ed2a5e643b"
      },
      "source": [
        "# Download the Postgres driver that will allow Spark to interact with Postgres.\n",
        "!wget https://jdbc.postgresql.org/download/postgresql-42.2.16.jar"
      ],
      "execution_count": 2,
      "outputs": [
        {
          "output_type": "stream",
          "name": "stdout",
          "text": [
            "--2021-10-03 21:01:12--  https://jdbc.postgresql.org/download/postgresql-42.2.16.jar\n",
            "Resolving jdbc.postgresql.org (jdbc.postgresql.org)... 72.32.157.228, 2001:4800:3e1:1::228\n",
            "Connecting to jdbc.postgresql.org (jdbc.postgresql.org)|72.32.157.228|:443... connected.\n",
            "HTTP request sent, awaiting response... 200 OK\n",
            "Length: 1002883 (979K) [application/java-archive]\n",
            "Saving to: ‘postgresql-42.2.16.jar’\n",
            "\n",
            "postgresql-42.2.16. 100%[===================>] 979.38K  1.22MB/s    in 0.8s    \n",
            "\n",
            "2021-10-03 21:01:14 (1.22 MB/s) - ‘postgresql-42.2.16.jar’ saved [1002883/1002883]\n",
            "\n"
          ]
        }
      ]
    },
    {
      "cell_type": "code",
      "metadata": {
        "id": "-AlWNou0HdCB"
      },
      "source": [
        "from pyspark.sql import SparkSession\n",
        "spark = SparkSession.builder.appName(\"M16-Amazon-Challenge\").config(\"spark.driver.extraClassPath\",\"/content/postgresql-42.2.16.jar\").getOrCreate()"
      ],
      "execution_count": 3,
      "outputs": []
    },
    {
      "cell_type": "code",
      "metadata": {
        "colab": {
          "base_uri": "https://localhost:8080/"
        },
        "id": "WU_wPgwuHplK",
        "outputId": "17a29942-cd8e-4576-b992-2efd6ffe5fa9"
      },
      "source": [
        "from pyspark import SparkFiles\n",
        "url = \"https://s3.amazonaws.com/amazon-reviews-pds/tsv/amazon_reviews_us_Mobile_Electronics_v1_00.tsv.gz\"\n",
        "spark.sparkContext.addFile(url)\n",
        "df = spark.read.option(\"encoding\", \"UTF-8\").csv(SparkFiles.get(\"\"), sep=\"\\t\", header=True, inferSchema=True)\n",
        "df.show()"
      ],
      "execution_count": 4,
      "outputs": [
        {
          "output_type": "stream",
          "name": "stdout",
          "text": [
            "+-----------+-----------+--------------+----------+--------------+--------------------+------------------+-----------+-------------+-----------+----+-----------------+--------------------+--------------------+-----------+\n",
            "|marketplace|customer_id|     review_id|product_id|product_parent|       product_title|  product_category|star_rating|helpful_votes|total_votes|vine|verified_purchase|     review_headline|         review_body|review_date|\n",
            "+-----------+-----------+--------------+----------+--------------+--------------------+------------------+-----------+-------------+-----------+----+-----------------+--------------------+--------------------+-----------+\n",
            "|         US|   20422322| R8MEA6IGAHO0B|B00MC4CED8|     217304173|BlackVue DR600GW-PMP|Mobile_Electronics|          5|            0|          0|   N|                Y|         Very Happy!|As advertised. Ev...| 2015-08-31|\n",
            "|         US|   40835037|R31LOQ8JGLPRLK|B00OQMFG1Q|     137313254|GENSSI GSM / GPS ...|Mobile_Electronics|          5|            0|          1|   N|                Y|           five star|          it's great| 2015-08-31|\n",
            "|         US|   51469641|R2Y0MM9YE6OP3P|B00QERR5CY|      82850235|iXCC Multi pack L...|Mobile_Electronics|          5|            0|          0|   N|                Y|        great cables|These work great ...| 2015-08-31|\n",
            "|         US|    4332923| RRB9C05HDOD4O|B00QUFTPV4|     221169481|abcGoodefg® FBI C...|Mobile_Electronics|          4|            0|          0|   N|                Y|Work very well bu...|Work very well bu...| 2015-08-31|\n",
            "|         US|   44855305|R26I2RI1GFV8QG|B0067XVNTG|     563475445|Generic Car Dashb...|Mobile_Electronics|          2|            0|          0|   N|                Y|Cameras has batte...|Be careful with t...| 2015-08-31|\n",
            "|         US|    7846966| RY8DDL22YG4R5|B00KA6CCVY|     713636156|Aweek® Air Acoust...|Mobile_Electronics|          3|            0|          1|   N|                Y|It appears to be ...|It appears to be ...| 2015-08-31|\n",
            "|         US|   21299354|R2AT2426ZHFUHH|B00MJCDPM2|     754171872|Sentey LS-4460 B-...|Mobile_Electronics|          3|            0|          1|   N|                Y|Didn't love the f...|First one arrived...| 2015-08-31|\n",
            "|         US|   28902968|R3RRXU2R23NMQ9|B00ET5AWBY|     508373185|iPad Car Headrest...|Mobile_Electronics|          5|            0|          0|   N|                Y|          Five Stars|Worked great for ...| 2015-08-31|\n",
            "|         US|    2074438|R250PR8VJUZ62F|B00Z9K379C|     759387370|ANWING Waterproof...|Mobile_Electronics|          4|            0|          2|   N|                Y|          Four Stars|this is a very go...| 2015-08-31|\n",
            "|         US|   48701722| RBEMQ29WJBHYG|B00YO3UYXW|     913911909|Jensen MCR-100 Ca...|Mobile_Electronics|          5|          164|        168|   N|                Y|  I LOVE my recorder|I LOVE my recorde...| 2015-08-31|\n",
            "|         US|    2990247|R19VVIUT4BZCMT|B011W26BU2|     938399424|Bluetooth Speaker...|Mobile_Electronics|          5|            2|          2|   N|                Y|          Five Stars|Great sound great...| 2015-08-31|\n",
            "|         US|   52946117|R1DT8JJUQHUKUL|B00H8PI78C|     661515294|15Pcs DC 5V 85dB ...|Mobile_Electronics|          3|            0|          1|   N|                Y|More of a beeper ...|If what you want ...| 2015-08-31|\n",
            "|         US|   49359994| RLIL6S9OGM3YA|B00M49C6MK|      91176851|      Sentey Ls 4162|Mobile_Electronics|          5|            0|          0|   N|                Y|          Five Stars|             Love it| 2015-08-31|\n",
            "|         US|    4158732|R34EZZ68VYPHO0|B011Q291PK|     891142775|IcePACK 8 Can Ins...|Mobile_Electronics|          1|            1|          1|   N|                Y|            One Star|               Sucks| 2015-08-31|\n",
            "|         US|   18944032|R3TZNSOXS13SIG|B00W6OLUGQ|     577462547|DTK® AMI MDI MMI ...|Mobile_Electronics|          2|            1|          3|   N|                Y|           Two Stars|u need to plug in...| 2015-08-31|\n",
            "|         US|     279606|R12UBZT87UX3AP|B008MY1F8W|     680240984|INPA K+CAN K+DCAN...|Mobile_Electronics|          5|            2|          2|   N|                Y|          Five Stars|Worked with MHD F...| 2015-08-31|\n",
            "|         US|   10947966| R5KCRE927NYMU|B00KW3XNUE|     219920841|Magicfly Wireless...|Mobile_Electronics|          2|            0|          0|   N|                N|Battery Cover Poo...|Just arrived,  re...| 2015-08-31|\n",
            "|         US|   18387442| RT12RQFU0V2AX|B009NGR0AK|     254898339|Humminbird XNT 9 ...|Mobile_Electronics|          5|            1|          1|   N|                Y|        Works great.|I bought this uni...| 2015-08-31|\n",
            "|         US|   48950322|R2K0YQPV5W2SJ1|B011W26BU2|     938399424|Bluetooth Speaker...|Mobile_Electronics|          4|            2|          2|   N|                Y|A Lot of Sound In...|I am giving the s...| 2015-08-31|\n",
            "|         US|   48148197|R104MY31OKNGXH|B00PAP68WO|     366592530|Foxnovo 3.7V 380m...|Mobile_Electronics|          5|            0|          0|   N|                Y|          Five Stars|Met my applicatio...| 2015-08-31|\n",
            "+-----------+-----------+--------------+----------+--------------+--------------------+------------------+-----------+-------------+-----------+----+-----------------+--------------------+--------------------+-----------+\n",
            "only showing top 20 rows\n",
            "\n"
          ]
        }
      ]
    },
    {
      "cell_type": "code",
      "metadata": {
        "colab": {
          "base_uri": "https://localhost:8080/"
        },
        "id": "4htJfyqSHpvL",
        "outputId": "a2386329-ef0c-4588-eee8-2023078e0cb0"
      },
      "source": [
        "# Create the vine_table. DataFrame\n",
        "vine_df = df.select([\"review_id\", \"star_rating\", \"helpful_votes\", \"total_votes\", \"vine\", \"verified_purchase\"])\n",
        "vine_df.show(5)"
      ],
      "execution_count": 5,
      "outputs": [
        {
          "output_type": "stream",
          "name": "stdout",
          "text": [
            "+--------------+-----------+-------------+-----------+----+-----------------+\n",
            "|     review_id|star_rating|helpful_votes|total_votes|vine|verified_purchase|\n",
            "+--------------+-----------+-------------+-----------+----+-----------------+\n",
            "| R8MEA6IGAHO0B|          5|            0|          0|   N|                Y|\n",
            "|R31LOQ8JGLPRLK|          5|            0|          1|   N|                Y|\n",
            "|R2Y0MM9YE6OP3P|          5|            0|          0|   N|                Y|\n",
            "| RRB9C05HDOD4O|          4|            0|          0|   N|                Y|\n",
            "|R26I2RI1GFV8QG|          2|            0|          0|   N|                Y|\n",
            "+--------------+-----------+-------------+-----------+----+-----------------+\n",
            "only showing top 5 rows\n",
            "\n"
          ]
        }
      ]
    },
    {
      "cell_type": "code",
      "metadata": {
        "id": "dmvOfTSJHp3u",
        "colab": {
          "base_uri": "https://localhost:8080/"
        },
        "outputId": "188e2383-ab07-4884-da6e-085d22af83cd"
      },
      "source": [
        "#Make df where total votes are greater or equal to 20\n",
        "high_vote_count_df = vine_df.filter(\"total_votes>=20\")\n",
        "high_vote_count_df.show(10)"
      ],
      "execution_count": 36,
      "outputs": [
        {
          "output_type": "stream",
          "name": "stdout",
          "text": [
            "+--------------+-----------+-------------+-----------+----+-----------------+\n",
            "|     review_id|star_rating|helpful_votes|total_votes|vine|verified_purchase|\n",
            "+--------------+-----------+-------------+-----------+----+-----------------+\n",
            "| RBEMQ29WJBHYG|          5|          164|        168|   N|                Y|\n",
            "|R2JK5Y8D5MXAGP|          1|            5|        121|   N|                Y|\n",
            "|R13W3EMIUV120L|          4|          288|        294|   N|                Y|\n",
            "|R30TJ8POYNVCRE|          5|           15|         21|   N|                N|\n",
            "|R1H5Y9Z2DHRNVO|          1|            4|         95|   N|                Y|\n",
            "|R1LK03P7BCJEJD|          1|           31|         35|   N|                Y|\n",
            "| RBXUICKGHL685|          1|           48|         52|   N|                N|\n",
            "|R2E16WLZKP78GO|          5|           19|         21|   N|                Y|\n",
            "|R1EN4PGQIFSENW|          5|           27|         28|   N|                Y|\n",
            "| RXZWQU66AHIYG|          5|           24|         25|   N|                Y|\n",
            "+--------------+-----------+-------------+-----------+----+-----------------+\n",
            "only showing top 10 rows\n",
            "\n"
          ]
        }
      ]
    },
    {
      "cell_type": "code",
      "metadata": {
        "colab": {
          "base_uri": "https://localhost:8080/"
        },
        "id": "-SN3etTNIrai",
        "outputId": "88b219fe-fe21-44e5-beed-00d2dc8b09bd"
      },
      "source": [
        "# Make a Df where the columns for helpful_votes are divided by total_votes, and only keep the rows whose percentage of this is greater than 50%\n",
        "import pyspark.sql.functions as F\n",
        "helpful_ratio_df = high_vote_count_df.withColumn(\"helpful_percent\", (F.col(\"helpful_votes\"))/(F.col(\"total_votes\")))\n",
        "majority_helpful_df = helpful_ratio_df.filter(\"helpful_percent>=.5\")\n",
        "percentage_maj_helpful_df = majority_helpful_df.withColumn(\"helpful_percent\",(F.col(\"helpful_percent\")*100))\n",
        "percentage_maj_helpful_df.show(10)\n"
      ],
      "execution_count": 37,
      "outputs": [
        {
          "output_type": "stream",
          "name": "stdout",
          "text": [
            "+--------------+-----------+-------------+-----------+----+-----------------+-----------------+\n",
            "|     review_id|star_rating|helpful_votes|total_votes|vine|verified_purchase|  helpful_percent|\n",
            "+--------------+-----------+-------------+-----------+----+-----------------+-----------------+\n",
            "| RBEMQ29WJBHYG|          5|          164|        168|   N|                Y|97.61904761904762|\n",
            "|R13W3EMIUV120L|          4|          288|        294|   N|                Y|97.95918367346938|\n",
            "|R30TJ8POYNVCRE|          5|           15|         21|   N|                N|71.42857142857143|\n",
            "|R1LK03P7BCJEJD|          1|           31|         35|   N|                Y|88.57142857142857|\n",
            "| RBXUICKGHL685|          1|           48|         52|   N|                N| 92.3076923076923|\n",
            "|R2E16WLZKP78GO|          5|           19|         21|   N|                Y|90.47619047619048|\n",
            "|R1EN4PGQIFSENW|          5|           27|         28|   N|                Y|96.42857142857143|\n",
            "| RXZWQU66AHIYG|          5|           24|         25|   N|                Y|             96.0|\n",
            "|R2IXCZCSUKH8FB|          3|           78|         82|   N|                Y| 95.1219512195122|\n",
            "|R25RB38U9LL8OE|          5|           24|         29|   N|                Y|82.75862068965517|\n",
            "+--------------+-----------+-------------+-----------+----+-----------------+-----------------+\n",
            "only showing top 10 rows\n",
            "\n"
          ]
        }
      ]
    },
    {
      "cell_type": "code",
      "metadata": {
        "colab": {
          "base_uri": "https://localhost:8080/"
        },
        "id": "AaPII06uIrd9",
        "outputId": "9cde2e6c-a07e-41e3-f7a6-6c5c04473c75"
      },
      "source": [
        "# Make a DF for only the vine program reviewers\n",
        "in_vine_prog_df = percentage_maj_helpful_df.filter(percentage_maj_helpful_df.vine.contains('Y'))\n",
        "in_vine_prog_df.show(10)"
      ],
      "execution_count": 41,
      "outputs": [
        {
          "output_type": "stream",
          "name": "stdout",
          "text": [
            "+--------------+-----------+-------------+-----------+----+-----------------+-----------------+\n",
            "|     review_id|star_rating|helpful_votes|total_votes|vine|verified_purchase|  helpful_percent|\n",
            "+--------------+-----------+-------------+-----------+----+-----------------+-----------------+\n",
            "|R3BOQTLUU3Y4L8|          4|           42|         55|   Y|                N|76.36363636363637|\n",
            "| RWF03LXVXC22A|          3|          396|        445|   Y|                N|88.98876404494382|\n",
            "| REPU28WG1VZUE|          5|          242|        281|   Y|                N|86.12099644128114|\n",
            "|R1D6REC9HPJVQY|          4|           31|         41|   Y|                N|75.60975609756098|\n",
            "+--------------+-----------+-------------+-----------+----+-----------------+-----------------+\n",
            "\n"
          ]
        }
      ]
    },
    {
      "cell_type": "code",
      "metadata": {
        "colab": {
          "base_uri": "https://localhost:8080/"
        },
        "id": "UjhDCKkqEuQE",
        "outputId": "0fb3f61b-5239-4f10-afc6-27e4cd1c5d68"
      },
      "source": [
        "# Make a df for the non-vine program reviewers\n",
        "not_vine_prog_df = percentage_maj_helpful_df.filter(percentage_maj_helpful_df.vine.contains('N'))\n",
        "not_vine_prog_df.show(10)"
      ],
      "execution_count": 40,
      "outputs": [
        {
          "output_type": "stream",
          "name": "stdout",
          "text": [
            "+--------------+-----------+-------------+-----------+----+-----------------+-----------------+\n",
            "|     review_id|star_rating|helpful_votes|total_votes|vine|verified_purchase|  helpful_percent|\n",
            "+--------------+-----------+-------------+-----------+----+-----------------+-----------------+\n",
            "| RBEMQ29WJBHYG|          5|          164|        168|   N|                Y|97.61904761904762|\n",
            "|R13W3EMIUV120L|          4|          288|        294|   N|                Y|97.95918367346938|\n",
            "|R30TJ8POYNVCRE|          5|           15|         21|   N|                N|71.42857142857143|\n",
            "|R1LK03P7BCJEJD|          1|           31|         35|   N|                Y|88.57142857142857|\n",
            "| RBXUICKGHL685|          1|           48|         52|   N|                N| 92.3076923076923|\n",
            "|R2E16WLZKP78GO|          5|           19|         21|   N|                Y|90.47619047619048|\n",
            "|R1EN4PGQIFSENW|          5|           27|         28|   N|                Y|96.42857142857143|\n",
            "| RXZWQU66AHIYG|          5|           24|         25|   N|                Y|             96.0|\n",
            "|R2IXCZCSUKH8FB|          3|           78|         82|   N|                Y| 95.1219512195122|\n",
            "|R25RB38U9LL8OE|          5|           24|         29|   N|                Y|82.75862068965517|\n",
            "+--------------+-----------+-------------+-----------+----+-----------------+-----------------+\n",
            "only showing top 10 rows\n",
            "\n"
          ]
        }
      ]
    },
    {
      "cell_type": "code",
      "metadata": {
        "colab": {
          "base_uri": "https://localhost:8080/"
        },
        "id": "DNwyKsoXEujx",
        "outputId": "9c686dd0-0e61-4715-f21b-544711bfdc56"
      },
      "source": [
        "#Count Number of Entries that were in the vine program\n",
        "vine_count = in_vine_prog_df.count()\n",
        "vine_count"
      ],
      "execution_count": 49,
      "outputs": [
        {
          "output_type": "execute_result",
          "data": {
            "text/plain": [
              "4"
            ]
          },
          "metadata": {},
          "execution_count": 49
        }
      ]
    },
    {
      "cell_type": "code",
      "metadata": {
        "colab": {
          "base_uri": "https://localhost:8080/"
        },
        "id": "oiAbnbdiDBKF",
        "outputId": "856f0bed-42cc-4388-843e-0a8188a259db"
      },
      "source": [
        "#Count Number of Entries Not in Vine Program\n",
        "not_vine_count = not_vine_prog_df.count()\n",
        "not_vine_count"
      ],
      "execution_count": 50,
      "outputs": [
        {
          "output_type": "execute_result",
          "data": {
            "text/plain": [
              "1064"
            ]
          },
          "metadata": {},
          "execution_count": 50
        }
      ]
    },
    {
      "cell_type": "code",
      "metadata": {
        "colab": {
          "base_uri": "https://localhost:8080/"
        },
        "id": "sZ_VahjIDe_R",
        "outputId": "b55ba470-6bb3-4c7a-e680-4dfb7e8eb0c2"
      },
      "source": [
        "# Count the 5 star ratings by vine program reviewers (this could be done by hand on such a small df, but done in code for class purposes)\n",
        "five_star_vine = in_vine_prog_df.filter(\"star_rating=5\").count()\n",
        "five_star_vine"
      ],
      "execution_count": 53,
      "outputs": [
        {
          "output_type": "execute_result",
          "data": {
            "text/plain": [
              "1"
            ]
          },
          "metadata": {},
          "execution_count": 53
        }
      ]
    },
    {
      "cell_type": "code",
      "metadata": {
        "colab": {
          "base_uri": "https://localhost:8080/"
        },
        "id": "W8HuWhUtEbG4",
        "outputId": "2bddded1-09b2-447c-a7f6-40fb656ce059"
      },
      "source": [
        "# Count the 5 star ratings by non-vine program reviewers\n",
        "five_star_not_vine = not_vine_prog_df.filter(\"star_rating=5\").count()\n",
        "five_star_not_vine"
      ],
      "execution_count": 52,
      "outputs": [
        {
          "output_type": "execute_result",
          "data": {
            "text/plain": [
              "527"
            ]
          },
          "metadata": {},
          "execution_count": 52
        }
      ]
    },
    {
      "cell_type": "code",
      "metadata": {
        "colab": {
          "base_uri": "https://localhost:8080/"
        },
        "id": "ZPakImXdEbJg",
        "outputId": "fb38af20-3975-4f2e-8c00-2acabeffa894"
      },
      "source": [
        "# Percentage of 5 star ratings by Vine Program reviewers\n",
        "vine_fivestar_pct = (five_star_vine/vine_count)*100\n",
        "vine_fivestar_pct"
      ],
      "execution_count": 56,
      "outputs": [
        {
          "output_type": "execute_result",
          "data": {
            "text/plain": [
              "25.0"
            ]
          },
          "metadata": {},
          "execution_count": 56
        }
      ]
    },
    {
      "cell_type": "code",
      "metadata": {
        "colab": {
          "base_uri": "https://localhost:8080/"
        },
        "id": "YJcdcVFUFmah",
        "outputId": "fd77787a-6b68-4f5f-e65b-d9d54967165d"
      },
      "source": [
        "# Percentage of 5 star ratings by Non-Vine Program reviewers\n",
        "not_vine_fivestar_pct = (five_star_not_vine/not_vine_count)*100\n",
        "not_vine_fivestar_pct"
      ],
      "execution_count": 57,
      "outputs": [
        {
          "output_type": "execute_result",
          "data": {
            "text/plain": [
              "49.53007518796993"
            ]
          },
          "metadata": {},
          "execution_count": 57
        }
      ]
    },
    {
      "cell_type": "code",
      "metadata": {
        "id": "MqkR0BsfG0Gg"
      },
      "source": [
        ""
      ],
      "execution_count": null,
      "outputs": []
    }
  ]
}